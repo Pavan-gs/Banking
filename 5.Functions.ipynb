{
 "cells": [
  {
   "cell_type": "code",
   "execution_count": null,
   "metadata": {
    "collapsed": true
   },
   "outputs": [],
   "source": [
    "#Built in functions\n",
    "'''\n",
    "1.type\n",
    "2. max\n",
    "3. min\n",
    "4. conversion functions : int, float, str\n",
    "5. random\n",
    "print(max('Hello world'))\n",
    "print(min('helloworld'))\n",
    "\n",
    "import random\n",
    "\n",
    "for i in range(10):\n",
    "    x = random.random()\n",
    "    print(x)\n",
    "    \n",
    "    \n",
    "6. randint\n",
    "\n",
    "random.randint(5, 10)\n",
    "random.randint(5, 10)\n",
    "t = [1, 2, 3]\n",
    "random.choice(t)\n",
    "random.choice(t)\n",
    "7. Math functions - pi, sin, sqrt, \n",
    "import math\n",
    "ratio = signal_power / noise_power\n",
    "\n",
    "decibels = 10 * math.log10(ratio)\n",
    "\n",
    " radians = 0.7\n",
    " height = math.sin(radians)\n",
    " degrees = 45\n",
    " radians = degrees / 360.0 * 2 * math.pi\n",
    " math.sin(radians)\n",
    "math.sqrt(2) / 2.0\n",
    "\n",
    "x = math.cos(radians)\n",
    "golden = (math.sqrt(5) + 1) / 2\n",
    "\n",
    "'''"
   ]
  },
  {
   "cell_type": "code",
   "execution_count": 2,
   "metadata": {},
   "outputs": [],
   "source": [
    "# defining void funtions\n",
    "def print_lyrics():\n",
    "    print(\"I'm a lumberjack, and I'm okay.\")\n",
    "    print('I sleep all night and I work all day.')"
   ]
  },
  {
   "cell_type": "code",
   "execution_count": 3,
   "metadata": {},
   "outputs": [
    {
     "name": "stdout",
     "output_type": "stream",
     "text": [
      "I'm a lumberjack, and I'm okay.\n",
      "I sleep all night and I work all day.\n"
     ]
    }
   ],
   "source": [
    "print_lyrics()"
   ]
  },
  {
   "cell_type": "code",
   "execution_count": 123,
   "metadata": {},
   "outputs": [
    {
     "name": "stdout",
     "output_type": "stream",
     "text": [
      "<class 'function'>\n",
      "I'm a lumberjack, and I'm okay.\n",
      "I sleep all night and I work all day.\n"
     ]
    }
   ],
   "source": [
    "print(type(print_lyrics))\n",
    "#calling the function:\n",
    "print_lyrics()"
   ]
  },
  {
   "cell_type": "code",
   "execution_count": null,
   "metadata": {
    "collapsed": true
   },
   "outputs": [],
   "source": [
    "#Functions with arguments"
   ]
  },
  {
   "cell_type": "code",
   "execution_count": 2,
   "metadata": {},
   "outputs": [],
   "source": [
    "def print_twice(a):\n",
    "    print(a)\n",
    "    print(a)"
   ]
  },
  {
   "cell_type": "code",
   "execution_count": 3,
   "metadata": {},
   "outputs": [
    {
     "name": "stdout",
     "output_type": "stream",
     "text": [
      "Spam\n",
      "Spam\n"
     ]
    }
   ],
   "source": [
    "print_twice('Spam')"
   ]
  },
  {
   "cell_type": "code",
   "execution_count": 4,
   "metadata": {},
   "outputs": [
    {
     "name": "stdout",
     "output_type": "stream",
     "text": [
      "aaaa\n",
      "40\n"
     ]
    }
   ],
   "source": [
    "print('a'*4)\n",
    "print(10*4)"
   ]
  },
  {
   "cell_type": "code",
   "execution_count": 3,
   "metadata": {},
   "outputs": [
    {
     "name": "stdout",
     "output_type": "stream",
     "text": [
      "Spam Spam Spam Spam \n",
      "Spam Spam Spam Spam \n"
     ]
    }
   ],
   "source": [
    "print_twice('Spam '*4)"
   ]
  },
  {
   "cell_type": "code",
   "execution_count": 4,
   "metadata": {},
   "outputs": [],
   "source": [
    "#Writing userdefined functions with arguments and returning values\n",
    "def replace_negative(val):\n",
    "    if val<0:\n",
    "        out = 0\n",
    "    else:\n",
    "        out = val\n",
    "    return out"
   ]
  },
  {
   "cell_type": "code",
   "execution_count": 5,
   "metadata": {},
   "outputs": [
    {
     "name": "stdout",
     "output_type": "stream",
     "text": [
      "0\n",
      "100\n"
     ]
    }
   ],
   "source": [
    "# testing the above function\n",
    "print(replace_negative(-19))\n",
    "print(replace_negative(100))"
   ]
  },
  {
   "cell_type": "code",
   "execution_count": 8,
   "metadata": {},
   "outputs": [
    {
     "name": "stdout",
     "output_type": "stream",
     "text": [
      "7\n"
     ]
    },
    {
     "ename": "IndexError",
     "evalue": "list index out of range",
     "output_type": "error",
     "traceback": [
      "\u001b[1;31m---------------------------------------\u001b[0m",
      "\u001b[1;31mIndexError\u001b[0mTraceback (most recent call last)",
      "\u001b[1;32m<ipython-input-8-7099a3086e88>\u001b[0m in \u001b[0;36m<module>\u001b[1;34m\u001b[0m\n\u001b[0;32m      2\u001b[0m \u001b[0mprint\u001b[0m\u001b[1;33m(\u001b[0m\u001b[0mlen\u001b[0m\u001b[1;33m(\u001b[0m\u001b[0mnumList\u001b[0m\u001b[1;33m)\u001b[0m\u001b[1;33m)\u001b[0m\u001b[1;33m\u001b[0m\u001b[1;33m\u001b[0m\u001b[0m\n\u001b[0;32m      3\u001b[0m \u001b[1;32mfor\u001b[0m \u001b[0mi\u001b[0m \u001b[1;32min\u001b[0m \u001b[0mrange\u001b[0m\u001b[1;33m(\u001b[0m\u001b[1;36m0\u001b[0m\u001b[1;33m,\u001b[0m\u001b[1;36m8\u001b[0m\u001b[1;33m)\u001b[0m\u001b[1;33m:\u001b[0m\u001b[1;33m\u001b[0m\u001b[1;33m\u001b[0m\u001b[0m\n\u001b[1;32m----> 4\u001b[1;33m     \u001b[0mnumList\u001b[0m\u001b[1;33m[\u001b[0m\u001b[0mi\u001b[0m\u001b[1;33m]\u001b[0m\u001b[1;33m=\u001b[0m\u001b[0mreplace_negative\u001b[0m\u001b[1;33m(\u001b[0m\u001b[0mnumList\u001b[0m\u001b[1;33m[\u001b[0m\u001b[0mi\u001b[0m\u001b[1;33m]\u001b[0m\u001b[1;33m)\u001b[0m\u001b[1;33m\u001b[0m\u001b[1;33m\u001b[0m\u001b[0m\n\u001b[0m\u001b[0;32m      5\u001b[0m \u001b[0mprint\u001b[0m\u001b[1;33m(\u001b[0m\u001b[0mnumList\u001b[0m\u001b[1;33m)\u001b[0m\u001b[1;33m\u001b[0m\u001b[1;33m\u001b[0m\u001b[0m\n",
      "\u001b[1;31mIndexError\u001b[0m: list index out of range"
     ]
    }
   ],
   "source": [
    "numList = [-5,2,-3,-100,75,90,80]\n",
    "print(len(numList))\n",
    "for i in range(0,len(numList)):\n",
    "    numList[i]=replace_negative(numList[i])\n",
    "print(numList)"
   ]
  },
  {
   "cell_type": "code",
   "execution_count": 7,
   "metadata": {},
   "outputs": [
    {
     "data": {
      "text/plain": [
       "[0, 2, 0, 0, 75, 90, 80]"
      ]
     },
     "execution_count": 7,
     "metadata": {},
     "output_type": "execute_result"
    }
   ],
   "source": [
    "[replace_negative(i) for i in numList]"
   ]
  },
  {
   "cell_type": "code",
   "execution_count": 132,
   "metadata": {},
   "outputs": [
    {
     "name": "stdout",
     "output_type": "stream",
     "text": [
      "[0, 2, 0, 0, 75, 90, 80]\n"
     ]
    }
   ],
   "source": [
    "#using list comprehension\n",
    "numList = [0 if i<0 else i for i in numList]\n",
    "print(numList)"
   ]
  },
  {
   "cell_type": "code",
   "execution_count": 8,
   "metadata": {
    "collapsed": true
   },
   "outputs": [],
   "source": [
    "def isPrime(number):\n",
    "    count = 2\n",
    "    isPrime = 1 #The number is assumed to be prime\n",
    "    while count <= number//2:\n",
    "        if number % count == 0:\n",
    "            isPrime = 0 #the number is not prime\n",
    "            break\n",
    "        else:\n",
    "            count = count +1\n",
    "    if isPrime == 1:\n",
    "        return True\n",
    "    else:\n",
    "        return False"
   ]
  },
  {
   "cell_type": "code",
   "execution_count": 5,
   "metadata": {},
   "outputs": [
    {
     "name": "stdout",
     "output_type": "stream",
     "text": [
      "28344638273892734\n",
      "3 7 2 3 7 2 3 3 2 "
     ]
    }
   ],
   "source": [
    "def is_prime(number):\n",
    "    count = 2\n",
    "    isPrime = True #The number is assumed to be prime\n",
    "    if(number > 1):\n",
    "        half=number//2\n",
    "        half=half+1\n",
    "        for count in range(2,half):\n",
    "            if number % count == 0:\n",
    "                isPrime = False #the number is not prime\n",
    "                break\n",
    "    else:\n",
    "        isPrime = False\n",
    "\n",
    "    return isPrime\n",
    "\n",
    "def print_Prime(num):\n",
    "    while(num!=0):\n",
    "        digit=num%10\n",
    "        num=num//10\n",
    "        if(is_prime(digit)):\n",
    "            print(digit,end=\" \")\n",
    "\n",
    "num=int(input())\n",
    "print_Prime(num)"
   ]
  },
  {
   "cell_type": "code",
   "execution_count": 10,
   "metadata": {},
   "outputs": [
    {
     "name": "stdout",
     "output_type": "stream",
     "text": [
      "number is not prime\n"
     ]
    }
   ],
   "source": [
    "if (isPrime(50) == True) : print(\"number is prime\") \n",
    "else : print(\"number is not prime\")"
   ]
  },
  {
   "cell_type": "code",
   "execution_count": null,
   "metadata": {
    "collapsed": true
   },
   "outputs": [],
   "source": [
    "#Printing the next 5 prime numbers\n",
    "number = int(input(\"enter a number : \"))\n",
    "numPrime = 1\n",
    "while numPrime <= 5:\n",
    "    number = number+1\n",
    "    if(isPrime(number) == True):\n",
    "        print(number)\n",
    "        numPrime = numPrime+1"
   ]
  },
  {
   "cell_type": "code",
   "execution_count": 12,
   "metadata": {},
   "outputs": [
    {
     "name": "stdout",
     "output_type": "stream",
     "text": [
      "enter a start number50\n",
      "enter a end number100\n",
      "53\n",
      "59\n",
      "61\n",
      "67\n",
      "71\n",
      "73\n",
      "79\n",
      "83\n",
      "89\n",
      "97\n"
     ]
    }
   ],
   "source": [
    "start = int(input(\"enter a start number\"))\n",
    "end = int(input(\"enter a end number\"))\n",
    "for number in range(start, end+1):\n",
    "    if(isPrime(number)==True):\n",
    "        print(number)"
   ]
  },
  {
   "cell_type": "code",
   "execution_count": 13,
   "metadata": {},
   "outputs": [
    {
     "data": {
      "text/plain": [
       "[53, 59, 61, 67, 71, 73, 79, 83, 89, 97]"
      ]
     },
     "execution_count": 13,
     "metadata": {},
     "output_type": "execute_result"
    }
   ],
   "source": [
    "[ number for number in range(start, end+1) if(isPrime(number)==True) ]"
   ]
  },
  {
   "cell_type": "code",
   "execution_count": 96,
   "metadata": {
    "collapsed": true
   },
   "outputs": [],
   "source": [
    "#Factorial of a number using default arguments\n",
    "def factorial(num=1):\n",
    "    count = 1\n",
    "    fact=1\n",
    "    while count <=num:\n",
    "        fact = count*fact\n",
    "        count = count+1\n",
    "    return(fact)"
   ]
  },
  {
   "cell_type": "code",
   "execution_count": 97,
   "metadata": {},
   "outputs": [
    {
     "data": {
      "text/plain": [
       "1"
      ]
     },
     "execution_count": 97,
     "metadata": {},
     "output_type": "execute_result"
    }
   ],
   "source": [
    "factorial()"
   ]
  },
  {
   "cell_type": "code",
   "execution_count": 98,
   "metadata": {},
   "outputs": [
    {
     "data": {
      "text/plain": [
       "120"
      ]
     },
     "execution_count": 98,
     "metadata": {},
     "output_type": "execute_result"
    }
   ],
   "source": [
    "factorial(5)"
   ]
  },
  {
   "cell_type": "code",
   "execution_count": 15,
   "metadata": {
    "collapsed": true
   },
   "outputs": [],
   "source": [
    "#sorting using selection sort algortithm\n",
    "'''\n",
    "1. From the first element to the end of the list repeat the following steps\n",
    "   1a. First element is considered as minumim\n",
    "   1b. Check the first element with the remaining elements\n",
    "   1c. if you find any other element much lesser than the first element\n",
    "   1d. reassign minimum to that element\n",
    "2. interchange the first element with the minimum\n",
    "'''\n",
    "def SelectionSort(myList):\n",
    "    #From the first element to the end of the list\n",
    "    #repeat the following steps\n",
    "    for i in range(0,len(myList)):\n",
    "      #  First element is considered as minumim\n",
    "        minimum = i\n",
    "        #loop check the first elements with the remaining elements\n",
    "        for j in range(i+1,len(myList)):\n",
    "            #checking if other element is much lesser than the minimum\n",
    "            if myList[j] < myList[minimum]:\n",
    "                #reassigning minimum\n",
    "                minimum = j\n",
    "        #interchange the elements\n",
    "        myList[i],myList[minimum] = myList[minimum], myList[i]            \n",
    "    return(myList)"
   ]
  },
  {
   "cell_type": "code",
   "execution_count": 1,
   "metadata": {},
   "outputs": [
    {
     "name": "stdout",
     "output_type": "stream",
     "text": [
      "20 10\n"
     ]
    }
   ],
   "source": [
    "#interchange elements\n",
    "a=10\n",
    "b=20\n",
    "(a,b) = (b,a)\n",
    "print(a,b)"
   ]
  },
  {
   "cell_type": "code",
   "execution_count": 105,
   "metadata": {},
   "outputs": [
    {
     "name": "stdout",
     "output_type": "stream",
     "text": [
      "20 10\n"
     ]
    }
   ],
   "source": [
    "#another way to interchange elements\n",
    "a=10\n",
    "b=20\n",
    "temp=a\n",
    "a=b\n",
    "b=temp\n",
    "print(a,b)"
   ]
  },
  {
   "cell_type": "code",
   "execution_count": 34,
   "metadata": {},
   "outputs": [
    {
     "name": "stdout",
     "output_type": "stream",
     "text": [
      "[-3, 1, 5, 10, 20, 30, 33]\n",
      "-3\n",
      "33\n",
      "10\n"
     ]
    }
   ],
   "source": [
    "#Finding the min, max and the median of the elements\n",
    "mylist  = [ 10,20,30,5,-3,1,33]\n",
    "myList = SelectionSort(mylist)\n",
    "minList = myList[0]\n",
    "maxList = myList[len(myList)-1]\n",
    "if len(myList)%2 !=0 :\n",
    "    medianList = myList[(len(myList)//2)]\n",
    "else:\n",
    "    medianList = (myList[(len(myList)//2)] + myList[(len(myList)//2)-1])/2\n",
    "print(myList)\n",
    "print(minList)\n",
    "print(maxList)\n",
    "print(medianList)"
   ]
  },
  {
   "cell_type": "markdown",
   "metadata": {},
   "source": [
    "### Lambdas, map, filter and reduce\n",
    "- We can use lambdas, map to replicate the functionality of list comprehension"
   ]
  },
  {
   "cell_type": "code",
   "execution_count": null,
   "metadata": {
    "collapsed": true
   },
   "outputs": [],
   "source": [
    "### Lambdas, map\n",
    "- We can use lambdas, map to replicate the functionality of list comprehension"
   ]
  },
  {
   "cell_type": "code",
   "execution_count": 10,
   "metadata": {},
   "outputs": [
    {
     "name": "stdout",
     "output_type": "stream",
     "text": [
      "4\n",
      "6\n",
      "4\n"
     ]
    }
   ],
   "source": [
    "r = lambda q: q * 2\n",
    "s = lambda q: q * 3\n",
    "x = 2\n",
    "y = r(x)\n",
    "print(y)\n",
    "z=2\n",
    "y = s(z)\n",
    "print(y)\n",
    "x = r(x)\n",
    "print(x)"
   ]
  },
  {
   "cell_type": "code",
   "execution_count": 15,
   "metadata": {},
   "outputs": [],
   "source": [
    "def fahrenheit(T):\n",
    "    f=round(((float(9)/5)*T + 32),2)\n",
    "    return f"
   ]
  },
  {
   "cell_type": "code",
   "execution_count": 16,
   "metadata": {},
   "outputs": [
    {
     "name": "stdout",
     "output_type": "stream",
     "text": [
      "<map object at 0x05BF83A0>\n"
     ]
    }
   ],
   "source": [
    "temperatures = [36.5, 37, 37.5, 38, 39]\n",
    "F = map(fahrenheit, temperatures)\n",
    "print(F)"
   ]
  },
  {
   "cell_type": "code",
   "execution_count": 12,
   "metadata": {},
   "outputs": [],
   "source": [
    "def fahrenheit(T):\n",
    "    f=round(((float(9)/5)*T + 32),2)\n",
    "    return f"
   ]
  },
  {
   "cell_type": "code",
   "execution_count": 14,
   "metadata": {},
   "outputs": [
    {
     "name": "stdout",
     "output_type": "stream",
     "text": [
      "[97.7, 98.6, 99.5, 100.4, 102.2]\n"
     ]
    }
   ],
   "source": [
    "temperatures = [36.5, 37, 37.5, 38, 39]\n",
    "F = map(fahrenheit, temperatures)\n",
    "print(list(F))"
   ]
  },
  {
   "cell_type": "code",
   "execution_count": 133,
   "metadata": {},
   "outputs": [
    {
     "name": "stdout",
     "output_type": "stream",
     "text": [
      "[97.7, 98.6, 99.5, 100.4, 102.2]\n"
     ]
    }
   ],
   "source": [
    "temperatures = [36.5, 37, 37.5, 38, 39]\n",
    "F=[ round(((float(9)/5)*temp + 32),2) for temp in temperatures]\n",
    "print(F)"
   ]
  },
  {
   "cell_type": "code",
   "execution_count": 17,
   "metadata": {},
   "outputs": [
    {
     "name": "stdout",
     "output_type": "stream",
     "text": [
      "[97.7, 98.6, 99.5, 100.4, 102.2]\n"
     ]
    }
   ],
   "source": [
    "temperatures = [36.5, 37, 37.5, 38, 39]\n",
    "F = map(lambda T: round(((float(9)/5)*T + 32),2), temperatures)\n",
    "print(list(F))"
   ]
  },
  {
   "cell_type": "code",
   "execution_count": 144,
   "metadata": {},
   "outputs": [
    {
     "name": "stdout",
     "output_type": "stream",
     "text": [
      "<map object at 0x10747bf60>\n",
      "[4, 16, 36, 64, 100]\n"
     ]
    }
   ],
   "source": [
    "nums = [2, 4, 6, 8, 10]\n",
    "result = map(lambda a: a ** 2, nums)\n",
    "print(result)\n",
    "print(list(result))"
   ]
  },
  {
   "cell_type": "code",
   "execution_count": null,
   "metadata": {
    "collapsed": true
   },
   "outputs": [],
   "source": [
    "#Alternate way of defining lambda\n",
    "sum = lambda x, y : x + y\n",
    "sum(3,4)"
   ]
  },
  {
   "cell_type": "code",
   "execution_count": null,
   "metadata": {
    "collapsed": true
   },
   "outputs": [],
   "source": [
    "[  a**2  for a in nums]"
   ]
  },
  {
   "cell_type": "code",
   "execution_count": 140,
   "metadata": {},
   "outputs": [
    {
     "name": "stdout",
     "output_type": "stream",
     "text": [
      "[2, 6, 8, 10]\n"
     ]
    }
   ],
   "source": [
    "lst = [2,3,5,6,8,7,9,10]\n",
    "result = filter(lambda i: i%2==0, lst)\n",
    "print(list(result))"
   ]
  },
  {
   "cell_type": "code",
   "execution_count": 141,
   "metadata": {},
   "outputs": [
    {
     "name": "stdout",
     "output_type": "stream",
     "text": [
      "[2, 6, 8, 10]\n"
     ]
    }
   ],
   "source": [
    "result = [i for i in lst if i%2 ==0]\n",
    "print(result)"
   ]
  },
  {
   "cell_type": "code",
   "execution_count": 145,
   "metadata": {},
   "outputs": [
    {
     "data": {
      "text/plain": [
       "[53, 59, 61, 67, 71, 73, 79, 83, 89, 97]"
      ]
     },
     "execution_count": 145,
     "metadata": {},
     "output_type": "execute_result"
    }
   ],
   "source": [
    "list(filter(isPrime,range(50,100)))"
   ]
  },
  {
   "cell_type": "code",
   "execution_count": 4,
   "metadata": {
    "collapsed": true
   },
   "outputs": [],
   "source": [
    "num = [5,4,7,9,12,15,22,75,100,107]"
   ]
  },
  {
   "cell_type": "code",
   "execution_count": null,
   "metadata": {
    "collapsed": true
   },
   "outputs": [],
   "source": [
    "list(filter(isPrime,lst))"
   ]
  },
  {
   "cell_type": "code",
   "execution_count": null,
   "metadata": {
    "collapsed": true
   },
   "outputs": [],
   "source": [
    "#Assignment"
   ]
  },
  {
   "cell_type": "code",
   "execution_count": null,
   "metadata": {
    "collapsed": true
   },
   "outputs": [],
   "source": [
    "# 1. Form a list by dividing every element by 2"
   ]
  },
  {
   "cell_type": "code",
   "execution_count": 5,
   "metadata": {},
   "outputs": [
    {
     "data": {
      "text/plain": [
       "[2.5, 2.0, 3.5, 4.5, 6.0, 7.5, 11.0, 37.5, 50.0, 53.5]"
      ]
     },
     "execution_count": 5,
     "metadata": {},
     "output_type": "execute_result"
    }
   ],
   "source": [
    "list(map(lambda x:x/2,num))"
   ]
  },
  {
   "cell_type": "code",
   "execution_count": null,
   "metadata": {
    "collapsed": true
   },
   "outputs": [],
   "source": [
    "# 2. Form a list for all elements divisible by 5 "
   ]
  },
  {
   "cell_type": "code",
   "execution_count": 155,
   "metadata": {},
   "outputs": [
    {
     "data": {
      "text/plain": [
       "[5, 15, 75, 100]"
      ]
     },
     "execution_count": 155,
     "metadata": {},
     "output_type": "execute_result"
    }
   ],
   "source": [
    "list(filter(lambda x: x%5==0,num))"
   ]
  },
  {
   "cell_type": "code",
   "execution_count": null,
   "metadata": {
    "collapsed": true
   },
   "outputs": [],
   "source": [
    "#3. Form a  a list of all elements such that dividing even \n",
    "# numbers by 2 and odd numbers by 3"
   ]
  },
  {
   "cell_type": "code",
   "execution_count": 165,
   "metadata": {},
   "outputs": [
    {
     "data": {
      "text/plain": [
       "[1.67, 2.0, 2.33, 3.0, 6.0, 5.0, 11.0, 25.0, 50.0, 35.67]"
      ]
     },
     "execution_count": 165,
     "metadata": {},
     "output_type": "execute_result"
    }
   ],
   "source": [
    "list(map(lambda x: round(x/2,2) if x%2==0 else round(x/3,2),num))"
   ]
  },
  {
   "cell_type": "code",
   "execution_count": 166,
   "metadata": {
    "collapsed": true
   },
   "outputs": [],
   "source": [
    "#4. For a list of all even numbers(only) by multiplying by itself"
   ]
  },
  {
   "cell_type": "code",
   "execution_count": 6,
   "metadata": {},
   "outputs": [
    {
     "data": {
      "text/plain": [
       "[16, 144, 484, 10000]"
      ]
     },
     "execution_count": 6,
     "metadata": {},
     "output_type": "execute_result"
    }
   ],
   "source": [
    "FilteredList = list(filter(lambda x:x%2==0,num))\n",
    "list(map(lambda x:x*x,FilteredList))"
   ]
  },
  {
   "cell_type": "code",
   "execution_count": null,
   "metadata": {
    "collapsed": true
   },
   "outputs": [],
   "source": [
    "#5. For all 3 digit number divide the numebr by 2"
   ]
  },
  {
   "cell_type": "code",
   "execution_count": 7,
   "metadata": {},
   "outputs": [
    {
     "data": {
      "text/plain": [
       "[50.0, 53.5]"
      ]
     },
     "execution_count": 7,
     "metadata": {},
     "output_type": "execute_result"
    }
   ],
   "source": [
    "ThreeDigitNum = list(filter(lambda x: len(str(x))==3,num))\n",
    "list(map(lambda x: round(x/2,2),ThreeDigitNum))"
   ]
  },
  {
   "cell_type": "markdown",
   "metadata": {},
   "source": [
    "# Some more examples on map and filter"
   ]
  },
  {
   "cell_type": "code",
   "execution_count": null,
   "metadata": {
    "collapsed": true
   },
   "outputs": [],
   "source": [
    "## Convert a list of temperatures in celsius scale to fahrenheit\n",
    "temperatures = [36.5, 37, 37.5, 38, 39]\n",
    "[  round(((float(9)/5)*interVar + 32),2) for interVar in temperatures ]"
   ]
  },
  {
   "cell_type": "code",
   "execution_count": null,
   "metadata": {
    "collapsed": true
   },
   "outputs": [],
   "source": [
    "temperatures = [36.5, 37, 37.5, 38, 39]\n",
    "F = map(lambda T: round(((float(9)/5)*T + 32),2), temperatures)\n",
    "print(list(F))"
   ]
  },
  {
   "cell_type": "code",
   "execution_count": null,
   "metadata": {
    "collapsed": true
   },
   "outputs": [],
   "source": [
    "### Lambdas, map\n",
    "mass=[45,55,65,76]\n",
    "ht=[1.65,1.70,1.55,1.80]\n",
    "#to find x/y**2 on all the elements\n",
    "bmi=map(lambda x,y:x/y**2,mass,ht)"
   ]
  },
  {
   "cell_type": "code",
   "execution_count": null,
   "metadata": {
    "collapsed": true
   },
   "outputs": [],
   "source": [
    "bmi_f=filter(lambda x:x<20,list(bmi))\n",
    "print(list(bmi_f))"
   ]
  },
  {
   "cell_type": "code",
   "execution_count": null,
   "metadata": {
    "collapsed": true,
    "scrolled": true
   },
   "outputs": [],
   "source": [
    "# Filter\n",
    "Cities = ['Delhi', 'Pune', 'Chennai', 'Kolkata']\n",
    "\n",
    "# Use filter() to apply a lambda function over fellowship: result\n",
    "result = filter(lambda m: len(m) > 6, Cities)\n",
    "\n",
    "print(type(result))\n",
    "# Convert result to a list: result_list\n",
    "result_list = list(result)\n",
    "\n",
    "# Convert result into a list and print it\n",
    "print(result_list)\n"
   ]
  },
  {
   "cell_type": "markdown",
   "metadata": {},
   "source": [
    "## Reduce function - Takes a pair of elements and returns a single element which is put back to the list"
   ]
  },
  {
   "cell_type": "code",
   "execution_count": 1,
   "metadata": {},
   "outputs": [
    {
     "data": {
      "text/plain": [
       "150"
      ]
     },
     "execution_count": 1,
     "metadata": {},
     "output_type": "execute_result"
    }
   ],
   "source": [
    "from functools import reduce\n",
    "lst = [10,20,30,40,50]\n",
    "reduce(lambda x, y: x+y, lst)"
   ]
  },
  {
   "cell_type": "code",
   "execution_count": 79,
   "metadata": {},
   "outputs": [
    {
     "data": {
      "text/plain": [
       "11"
      ]
     },
     "execution_count": 79,
     "metadata": {},
     "output_type": "execute_result"
    }
   ],
   "source": [
    "reduce(lambda a,b: a if (a < b) else b, [47,11,42,42,13])"
   ]
  },
  {
   "cell_type": "code",
   "execution_count": 19,
   "metadata": {},
   "outputs": [
    {
     "name": "stdout",
     "output_type": "stream",
     "text": [
      "7\n"
     ]
    }
   ],
   "source": [
    "def my_func(a,b,c):\n",
    "    return(a+b+c)\n",
    "\n",
    "my_func(5,6,7)\n",
    "print(i)"
   ]
  },
  {
   "cell_type": "code",
   "execution_count": null,
   "metadata": {
    "collapsed": true
   },
   "outputs": [],
   "source": [
    "'''\n",
    "[47,11,42,102,13]\n",
    "[11,42,102,13]\n",
    "[11,102,13]\n",
    "[11,13]\n",
    "11\n",
    "'''"
   ]
  },
  {
   "cell_type": "code",
   "execution_count": null,
   "metadata": {
    "collapsed": true
   },
   "outputs": [],
   "source": [
    "#Selection sort using reduce"
   ]
  },
  {
   "cell_type": "code",
   "execution_count": 90,
   "metadata": {},
   "outputs": [
    {
     "name": "stdout",
     "output_type": "stream",
     "text": [
      "[11, 13, 42, 42, 47]\n"
     ]
    }
   ],
   "source": [
    "lst = [47,11,42,42,13]\n",
    "lst1 = []\n",
    "length = len(lst)\n",
    "for i in range(0,length):\n",
    "    small=reduce(lambda a,b: a if (a < b) else b, lst)\n",
    "    small in lst\n",
    "    lst1.append(small)\n",
    "    #lst = list(filter(lambda a: a!= small, lst))\n",
    "    lst.remove(small)\n",
    "print(lst1) "
   ]
  },
  {
   "cell_type": "code",
   "execution_count": 21,
   "metadata": {},
   "outputs": [
    {
     "data": {
      "text/plain": [
       "120"
      ]
     },
     "execution_count": 21,
     "metadata": {},
     "output_type": "execute_result"
    }
   ],
   "source": [
    "#Reduce to multiply the elements of a list\n",
    "reduce(lambda a,b : a*b, range(1,6))"
   ]
  },
  {
   "cell_type": "code",
   "execution_count": 172,
   "metadata": {},
   "outputs": [
    {
     "data": {
      "text/plain": [
       "3955.262222222221"
      ]
     },
     "execution_count": 172,
     "metadata": {},
     "output_type": "execute_result"
    }
   ],
   "source": [
    "numList = [10,100,300,40,50,60,60,60,60,65,65,75,55,54,67]\n",
    "numerator = 0\n",
    "i=0\n",
    "while i <15:\n",
    "    numerator = numerator + (numList[i]-Mean)**2\n",
    "    i = i + 1\n",
    "variance = numerator/15\n",
    "variance"
   ]
  },
  {
   "cell_type": "code",
   "execution_count": 3,
   "metadata": {},
   "outputs": [
    {
     "name": "stdout",
     "output_type": "stream",
     "text": [
      "74.73333333333333\n",
      "[4190.4, 638.4, 50745.07, 1206.4, 611.74, 217.07, 217.07, 217.07, 217.07, 94.74, 94.74, 0.07, 389.4, 429.87, 59.8]\n",
      "3955.26\n"
     ]
    }
   ],
   "source": [
    "numList = [10,100,300,40,50,60,60,60,60,65,65,75,55,54,67]\n",
    "count = len(numList)\n",
    "Mean = (reduce(lambda a,b:a+b, numList))/count\n",
    "print(Mean)\n",
    "\n",
    "#sigma((x-mean(x))**2)/no of elements\n",
    "meanSquare = list(map(lambda a: round((a-Mean)**2,2),numList))\n",
    "print(meanSquare)\n",
    "Variance = round((reduce(lambda a,b:a+b,meanSquare))/count,2)\n",
    "print(Variance)"
   ]
  },
  {
   "cell_type": "code",
   "execution_count": null,
   "metadata": {
    "collapsed": true
   },
   "outputs": [],
   "source": [
    "a = [1,2,3,4]\n",
    "b = [17,12,11,10]\n",
    "c = [-1,-4,5,9]\n",
    "print(list(map(lambda x,y: x+y,a,b)))\n",
    "print(list(map(lambda x,y,z:x+y+z, a,b,c)))\n",
    "print(list(map(lambda x,y,z:x+y-z, a,b,c)))"
   ]
  },
  {
   "cell_type": "code",
   "execution_count": 6,
   "metadata": {},
   "outputs": [
    {
     "name": "stdout",
     "output_type": "stream",
     "text": [
      "3628800\n"
     ]
    },
    {
     "data": {
      "text/plain": [
       "0"
      ]
     },
     "execution_count": 6,
     "metadata": {},
     "output_type": "execute_result"
    }
   ],
   "source": [
    "from functools import reduce\n",
    "a = reduce(lambda x,y: x*y, range(1,10+1))\n",
    "print(a)\n",
    "b= reduce(lambda x,y: x*y, range(1,801))\n",
    "c= reduce(lambda x,y: x*y, range(1,201))\n",
    "a//(b*c)"
   ]
  },
  {
   "cell_type": "code",
   "execution_count": 11,
   "metadata": {},
   "outputs": [
    {
     "name": "stdout",
     "output_type": "stream",
     "text": [
      "6\n",
      "23\n",
      "78\n",
      "12\n",
      "90\n",
      "34\n",
      "21\n",
      "12\n",
      "21\n",
      "23\n",
      "34\n",
      "78\n",
      "90\n"
     ]
    }
   ],
   "source": [
    "#bubble sort\n",
    "def sort(l1):\n",
    "    m = len(l1)\n",
    "    for m in range(m-1,-1,-1):\n",
    "        for i in range(0,m):\n",
    "            k=i+1\n",
    "            if(l1[i]>l1[k]):\n",
    "                temp=l1[i]\n",
    "                l1[i]=l1[k]\n",
    "                l1[k]=temp\n",
    "def print_list(l1):\n",
    "    for i in l1:\n",
    "        print(i)\n",
    "\n",
    "n=int(input())\n",
    "l1=list()\n",
    "for i in range(n):\n",
    "    l1.append(int(input()))\n",
    "sort(l1)\n",
    "print_list(l1)\n",
    "\n",
    "\n",
    "            "
   ]
  },
  {
   "cell_type": "markdown",
   "metadata": {},
   "source": [
    "Pattern matching \n",
    "Consider a number \"no\". If the number is even then print the following half pyramid using *\n",
    "*\n",
    "* *\n",
    "* * *\n",
    "* * * *\n",
    "* * * * *\n",
    "otherwise if the number is odd, display the number\n"
   ]
  },
  {
   "cell_type": "code",
   "execution_count": 17,
   "metadata": {},
   "outputs": [
    {
     "name": "stdout",
     "output_type": "stream",
     "text": [
      "10\n",
      "* \n",
      "\n",
      "* * \n",
      "\n",
      "* * * \n",
      "\n",
      "* * * * \n",
      "\n",
      "* * * * * \n",
      "\n"
     ]
    }
   ],
   "source": [
    "def pattern():\n",
    "    for i in range(5):\n",
    "        for j in range(i,-1,-1):\n",
    "            print('*',end=\" \")\n",
    "        print(\"\\n\")\n",
    "num=int(input())\n",
    "res=num%2\n",
    "if res == 0:\n",
    "    pattern()\n",
    "else:\n",
    "    print(num)\n",
    "\n",
    "        "
   ]
  },
  {
   "cell_type": "code",
   "execution_count": 3,
   "metadata": {},
   "outputs": [
    {
     "name": "stdout",
     "output_type": "stream",
     "text": [
      "5\n",
      "2 3 "
     ]
    }
   ],
   "source": [
    "def is_prime(number):\n",
    "    count = 2\n",
    "    isPrime = True #The number is assumed to be prime\n",
    "    if(number > 1):\n",
    "        half=number//2\n",
    "        half=half+1\n",
    "        for count in range(2,half):\n",
    "            if number % count == 0:\n",
    "                isPrime = False #the number is not prime\n",
    "                break\n",
    "    else:\n",
    "        isPrime = False\n",
    "\n",
    "    return isPrime\n",
    "\n",
    "def print_Prime(num):\n",
    "    for i in range(num):\n",
    "        if(is_prime(i)):\n",
    "            print(i,end=\" \")\n",
    "\n",
    "num=int(input())\n",
    "print_Prime(num)"
   ]
  },
  {
   "cell_type": "code",
   "execution_count": 16,
   "metadata": {},
   "outputs": [
    {
     "name": "stdout",
     "output_type": "stream",
     "text": [
      "4\n",
      "12\n",
      "34\n",
      "23\n",
      "14\n",
      "2\n",
      "[23, 14, 12, 34]\n"
     ]
    }
   ],
   "source": [
    "Left rotation - An array has to be left rotated for specified number of times. Accept the array \n",
    "size and elements of the array. Also accept number of times the array elements have to be left rotated.\n",
    "Display the array content after left rotation.\n",
    "e.g input:\n",
    "4\n",
    "12\n",
    "34\n",
    "23\n",
    "14\n",
    "2\n",
    "output:\n",
    "[23, 14, 12, 34]\n",
    "def left_rotation(l1,n):\n",
    "    length=len(l1)\n",
    "    for i in range(n):\n",
    "        temp=l1[0]\n",
    "        for j in range(length-1):\n",
    "            l1[j]=l1[j+1]\n",
    "        l1[j+1]=temp\n",
    "    return l1\n",
    "\n",
    "arr_size=int(input())\n",
    "l1=list()\n",
    "for i in range(arr_size):\n",
    "    l1.append(int(input()))\n",
    "n=int(input())\n",
    "print(left_rotation(l1,n))\n",
    "\n",
    "    "
   ]
  },
  {
   "cell_type": "code",
   "execution_count": 1,
   "metadata": {},
   "outputs": [
    {
     "name": "stdout",
     "output_type": "stream",
     "text": [
      "5\n",
      "34\n",
      "23\n",
      "67\n",
      "345\n",
      "23\n",
      "2\n",
      "67\n",
      "34\n",
      "23\n",
      "345\n",
      "23\n"
     ]
    }
   ],
   "source": [
    "def left_rotation(l1,n):\n",
    "    length=len(l1)\n",
    "    for i in range(length):\n",
    "        temp=l1[0]\n",
    "        for j in range(n):\n",
    "            l1[j]=l1[j+1]\n",
    "        l1[j+1]=temp\n",
    "    return l1\n",
    "\n",
    "arr_size=int(input())\n",
    "l1=list()\n",
    "for i in range(arr_size):\n",
    "    l1.append(int(input()))\n",
    "n=int(input())\n",
    "l1=left_rotation(l1,n)\n",
    "for i in l1:\n",
    "    print(i)\n",
    "\n",
    "    "
   ]
  },
  {
   "cell_type": "code",
   "execution_count": 24,
   "metadata": {},
   "outputs": [
    {
     "name": "stdout",
     "output_type": "stream",
     "text": [
      "Enter the stringEntertainment\n",
      "nteEraim\n"
     ]
    }
   ],
   "source": [
    "'''Picnic Puzzel\n",
    "Group of 4 families from Radiant Shine apartment plan for a picnic event during the summer vacation. During this event they plan to organise games for their family members.The game is as follows \n",
    "First person  has to say  a word  S,the other person has to give the modified word that  has only the distinct character in S. The characters should be presented in the descending order of its occurrence. If the occurrence count of two characters is same , then the order of these two characters should be the same as it is in S\n",
    "\n",
    "Input Format :\n",
    "Input is a string that denotes S \n",
    "Note : The string is case sensitive\n",
    "Output Format :\n",
    "The output is a string that denotes the modified string .\n",
    "Sample Input 1:\n",
    "HelloWorld\n",
    "Sample Output 1:\n",
    "loheWrd\n",
    "\n",
    "Sample Input 2:\n",
    "Entertainment\n",
    "Sample  Output 2:\n",
    "  nteEraim'''\n",
    "\n",
    "s=input(\"Enter the string\")\n",
    "a_count=dict()\n",
    "for i in s:\n",
    "    a_count[i]= a_count.get(i,0) + 1\n",
    "a_rev=list(sorted(a_count.items(),key=lambda kv:kv[1],reverse=True))\n",
    "\n",
    "output_str=''\n",
    "for i in range(len(a_rev)):\n",
    "    output_str=output_str+a_rev[i][0]\n",
    "print(output_str)\n",
    "\n",
    "############2nd solution########################\n",
    "s=input()\n",
    "d={}\n",
    "for i in s:\n",
    "  d[i]=d.get(i,0)+1\n",
    "sort=sorted(d.items(), key=lambda x:x[1], reverse=True)\n",
    "for i,j in sort:\n",
    "  print(i,end=\"\")\n"
   ]
  },
  {
   "cell_type": "code",
   "execution_count": 44,
   "metadata": {},
   "outputs": [
    {
     "name": "stdout",
     "output_type": "stream",
     "text": [
      "2\n",
      "3\n",
      "1\n",
      "2\n",
      "3\n",
      "1\n"
     ]
    }
   ],
   "source": [
    "'''\t\t\t\t\t\t\t\tCar Game \n",
    " \n",
    "There is big playground. N kids were sitting in a circle and playing the “Car” game.\n",
    "The rules for the Candy game are as follows:\n",
    "Kids will start telling the numbers starting from 1, the kids keep telling the consecutive numbers one by one. A number 'X' will be given. The kid who gets a number which is divisible by X should say \"Car\", instead of the original number, and the next kid will continue with the next number. This will continue in circular/cycle manner. A kid is out of the game If the kid says incorrect.\n",
    "Assume that the kids are won't make any mistake while telling the numbers. They may go wrong only while telling \"car\".\n",
    "\n",
    "Write a program that prints the kid's number (index starting from 1) who was incorrect.\n",
    "\n",
    "Input Format: \n",
    "The first input is an integer, that corresponds to the number of kids, N.\n",
    "The second input is an integer, that corresponds to the number X.\n",
    "The following lines are strings, that correspond to the number said by the kids. Keep reading the input until any kid says incorrectly\n",
    "\n",
    "Output Format:\n",
    "Output is an integer value which represents the kid's number who went wrong.\n",
    "\n",
    "Sample Input:\n",
    "5\n",
    "4\n",
    "1\n",
    "2\t\n",
    "3\n",
    "car\n",
    "5\n",
    "6\n",
    "7 \n",
    "8 \n",
    "\n",
    "Sample Output:\n",
    "3 \n",
    "'''\n",
    "\n",
    "no_of_kids=int(input())\n",
    "X = int(input())\n",
    "res=True\n",
    "i=0\n",
    "while(res==True):\n",
    "    i=i+1\n",
    "    \n",
    "    next_value=input(\"\")\n",
    "    if(i%X == 0):\n",
    "        if(next_value!=\"car\"):\n",
    "            res=False\n",
    "if(res==False):\n",
    "    print(i%no_of_kids)\n",
    "else:\n",
    "    print(\"game over\")"
   ]
  }
 ],
 "metadata": {
  "kernelspec": {
   "display_name": "Python 3",
   "language": "python",
   "name": "python3"
  },
  "language_info": {
   "codemirror_mode": {
    "name": "ipython",
    "version": 3
   },
   "file_extension": ".py",
   "mimetype": "text/x-python",
   "name": "python",
   "nbconvert_exporter": "python",
   "pygments_lexer": "ipython3",
   "version": "3.8.3"
  }
 },
 "nbformat": 4,
 "nbformat_minor": 2
}
